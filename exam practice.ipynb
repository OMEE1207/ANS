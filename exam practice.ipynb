{
 "cells": [
  {
   "cell_type": "markdown",
   "id": "2a462013",
   "metadata": {},
   "source": [
    "Q.1"
   ]
  },
  {
   "cell_type": "code",
   "execution_count": 1,
   "id": "7c8fd691",
   "metadata": {},
   "outputs": [
    {
     "ename": "KeyboardInterrupt",
     "evalue": "Interrupted by user",
     "output_type": "error",
     "traceback": [
      "\u001b[1;31m---------------------------------------------------------------------------\u001b[0m",
      "\u001b[1;31mKeyboardInterrupt\u001b[0m                         Traceback (most recent call last)",
      "Cell \u001b[1;32mIn[1], line 4\u001b[0m\n\u001b[0;32m      1\u001b[0m \u001b[38;5;28;01mimport\u001b[39;00m \u001b[38;5;21;01mre\u001b[39;00m\n\u001b[0;32m      3\u001b[0m \u001b[38;5;66;03m# Step 1: Take user input\u001b[39;00m\n\u001b[1;32m----> 4\u001b[0m user_input \u001b[38;5;241m=\u001b[39m \u001b[38;5;28minput\u001b[39m(\u001b[38;5;124m\"\u001b[39m\u001b[38;5;124mEnter a mobile number with country code (e.g., +1 123-456-7890): \u001b[39m\u001b[38;5;124m\"\u001b[39m)\n\u001b[0;32m      6\u001b[0m \u001b[38;5;66;03m# Step 2: Validate mobile number format\u001b[39;00m\n\u001b[0;32m      7\u001b[0m \u001b[38;5;28;01mdef\u001b[39;00m \u001b[38;5;21mvalidate_mobile_number\u001b[39m(input_str):\n",
      "File \u001b[1;32m~\\AppData\\Local\\anaconda3\\Lib\\site-packages\\ipykernel\\kernelbase.py:1202\u001b[0m, in \u001b[0;36mKernel.raw_input\u001b[1;34m(self, prompt)\u001b[0m\n\u001b[0;32m   1200\u001b[0m     msg \u001b[38;5;241m=\u001b[39m \u001b[38;5;124m\"\u001b[39m\u001b[38;5;124mraw_input was called, but this frontend does not support input requests.\u001b[39m\u001b[38;5;124m\"\u001b[39m\n\u001b[0;32m   1201\u001b[0m     \u001b[38;5;28;01mraise\u001b[39;00m StdinNotImplementedError(msg)\n\u001b[1;32m-> 1202\u001b[0m \u001b[38;5;28;01mreturn\u001b[39;00m \u001b[38;5;28mself\u001b[39m\u001b[38;5;241m.\u001b[39m_input_request(\n\u001b[0;32m   1203\u001b[0m     \u001b[38;5;28mstr\u001b[39m(prompt),\n\u001b[0;32m   1204\u001b[0m     \u001b[38;5;28mself\u001b[39m\u001b[38;5;241m.\u001b[39m_parent_ident[\u001b[38;5;124m\"\u001b[39m\u001b[38;5;124mshell\u001b[39m\u001b[38;5;124m\"\u001b[39m],\n\u001b[0;32m   1205\u001b[0m     \u001b[38;5;28mself\u001b[39m\u001b[38;5;241m.\u001b[39mget_parent(\u001b[38;5;124m\"\u001b[39m\u001b[38;5;124mshell\u001b[39m\u001b[38;5;124m\"\u001b[39m),\n\u001b[0;32m   1206\u001b[0m     password\u001b[38;5;241m=\u001b[39m\u001b[38;5;28;01mFalse\u001b[39;00m,\n\u001b[0;32m   1207\u001b[0m )\n",
      "File \u001b[1;32m~\\AppData\\Local\\anaconda3\\Lib\\site-packages\\ipykernel\\kernelbase.py:1245\u001b[0m, in \u001b[0;36mKernel._input_request\u001b[1;34m(self, prompt, ident, parent, password)\u001b[0m\n\u001b[0;32m   1242\u001b[0m \u001b[38;5;28;01mexcept\u001b[39;00m \u001b[38;5;167;01mKeyboardInterrupt\u001b[39;00m:\n\u001b[0;32m   1243\u001b[0m     \u001b[38;5;66;03m# re-raise KeyboardInterrupt, to truncate traceback\u001b[39;00m\n\u001b[0;32m   1244\u001b[0m     msg \u001b[38;5;241m=\u001b[39m \u001b[38;5;124m\"\u001b[39m\u001b[38;5;124mInterrupted by user\u001b[39m\u001b[38;5;124m\"\u001b[39m\n\u001b[1;32m-> 1245\u001b[0m     \u001b[38;5;28;01mraise\u001b[39;00m \u001b[38;5;167;01mKeyboardInterrupt\u001b[39;00m(msg) \u001b[38;5;28;01mfrom\u001b[39;00m \u001b[38;5;28;01mNone\u001b[39;00m\n\u001b[0;32m   1246\u001b[0m \u001b[38;5;28;01mexcept\u001b[39;00m \u001b[38;5;167;01mException\u001b[39;00m:\n\u001b[0;32m   1247\u001b[0m     \u001b[38;5;28mself\u001b[39m\u001b[38;5;241m.\u001b[39mlog\u001b[38;5;241m.\u001b[39mwarning(\u001b[38;5;124m\"\u001b[39m\u001b[38;5;124mInvalid Message:\u001b[39m\u001b[38;5;124m\"\u001b[39m, exc_info\u001b[38;5;241m=\u001b[39m\u001b[38;5;28;01mTrue\u001b[39;00m)\n",
      "\u001b[1;31mKeyboardInterrupt\u001b[0m: Interrupted by user"
     ]
    }
   ],
   "source": [
    "import re\n",
    "\n",
    "# Step 1: Take user input\n",
    "user_input = input(\"Enter a mobile number with country code (e.g., +1 123-456-7890): \")\n",
    "\n",
    "# Step 2: Validate mobile number format\n",
    "def validate_mobile_number(input_str):\n",
    "    pattern = r'^\\+(\\d{1,4})\\s(\\d{1,15})$'\n",
    "    match = re.match(pattern, input_str)\n",
    "    if match:\n",
    "        return match.group(1), match.group(2)\n",
    "    else:\n",
    "        return None, None\n",
    "\n",
    "country_code, phone_number = validate_mobile_number(user_input)\n",
    "\n",
    "if country_code is not None and phone_number is not None:\n",
    "    print(f\"Country Code: +{country_code}\")\n",
    "    print(f\"Phone Number: {phone_number}\")\n",
    "else:\n",
    "    print(\"Invalid mobile number format. Please use the format: '+{country code} {phone number}'\")\n",
    "\n",
    "# Step 3: Extract the country from the country code (you can use a library like 'pycountry' for this)\n",
    "\n",
    "# Step 4: Identify numerical and categorical variables in the data (you'll need a dataset for this)"
   ]
  },
  {
   "cell_type": "markdown",
   "id": "2dc0af2e",
   "metadata": {},
   "source": [
    "Q.2"
   ]
  },
  {
   "cell_type": "code",
   "execution_count": null,
   "id": "83ec5aa2",
   "metadata": {
    "scrolled": true
   },
   "outputs": [],
   "source": [
    "def factorial(n):\n",
    "    if n == 0:\n",
    "        return 1\n",
    "    else:\n",
    "        return n * factorial(n - 1)\n",
    "\n",
    "def generate_and_print_factorial_series(start, end):\n",
    "    if start < 0 or end < 0 or start > end:\n",
    "        print(\"Invalid input range. Please provide a valid range.\")\n",
    "        return\n",
    "\n",
    "    print(f\"Factorial series for the range {start} to {end}:\")\n",
    "    for i in range(start, end + 1):\n",
    "        print(f\"{i}! = {factorial(i)}\")\n",
    "\n",
    "# Example usage:\n",
    "generate_and_print_factorial_series(0, 10)"
   ]
  },
  {
   "cell_type": "markdown",
   "id": "5d1192e9",
   "metadata": {},
   "source": [
    "Q.4"
   ]
  },
  {
   "cell_type": "code",
   "execution_count": null,
   "id": "b22696cf",
   "metadata": {},
   "outputs": [],
   "source": [
    "tree_names = [\"Mango tree\", \"Coconut tree\", \"papaya tree\", \"Apple tree\", \"Banana tree\", \"Blackberry tree\"]\n",
    "indices_to_remove = [2, 3, 4]\n",
    "\n",
    "for index in indices_to_remove:\n",
    "    tree_names[index] = \"\"\n",
    "\n",
    "print(tree_names)\n",
    "\n",
    "\n",
    "#Step 2: Add the items [\"Neem Tree\", \"Peepal Tree\"] starting at index [3].\n",
    "\n",
    "tree_names = tree_names[:3] + [\"Neem Tree\", \"Peepal Tree\"] + tree_names[3:]\n",
    "\n",
    "print(tree_names)\n",
    "\n",
    "\n",
    "#Step 3: Write a function to determine how many times a given letter \"n\" occurs in a string.\n",
    "\n",
    "def count_letter_occurrences(text, letter):\n",
    "    return text.count(letter)\n",
    "\n",
    "# Example usage to count 'n' occurrences in \"Banana tree\"\n",
    "occurrences = count_letter_occurrences(\"Banana tree\", 'n')\n",
    "print(f\"The letter 'n' occurs {occurrences} times in the string.\")"
   ]
  },
  {
   "cell_type": "markdown",
   "id": "75e97c98",
   "metadata": {},
   "source": [
    "Q.5"
   ]
  },
  {
   "cell_type": "code",
   "execution_count": null,
   "id": "f6374eac",
   "metadata": {},
   "outputs": [],
   "source": [
    "from datetime import datetime\n",
    "\n",
    "# User data\n",
    "Names = ['Alice', 'Bob', 'Caroline', 'Derek', 'Edwin']\n",
    "Birthdays = ['4/7/1990', '11/12/1995', '8/17/2000', '9/4/2004', '2/29/2000']\n",
    "\n",
    "# Convert birthday strings to datetime objects\n",
    "birthdays_datetime = [datetime.strptime(birthday, \"%m/%d/%Y\") for birthday in Birthdays]\n",
    "\n",
    "# Find the youngest user\n",
    "youngest_user_index = birthdays_datetime.index(min(birthdays_datetime))\n",
    "youngest_user_name = Names[youngest_user_index]\n",
    "\n",
    "print(f\"a. Name of the youngest user: {youngest_user_name}\")\n",
    "\n",
    "# Find users born in a leap year\n",
    "leap_year_users = [name for name, birthday in zip(Names, birthdays_datetime) if (birthday.year % 4 == 0 and birthday.year % 100 != 0) or (birthday.year % 400 == 0)]\n",
    "print(f\"b. Names of the users born in Leap year:\")\n",
    "print(\" \".join(leap_year_users))\n",
    "\n",
    "\n",
    "#Task 2: Create a dictionary of character counts from a user-input string:\n",
    "\n",
    "# User input\n",
    "user_input = input(\"Enter a string: \")\n",
    "\n",
    "# Create a dictionary to count character occurrences\n",
    "char_count = {}\n",
    "for char in user_input:\n",
    "    char_count[char] = char_count.get(char, 0) + 1\n",
    "\n",
    "print(\"Characters with their counts:\", char_count)"
   ]
  },
  {
   "cell_type": "markdown",
   "id": "306e8a72",
   "metadata": {},
   "source": [
    "Q.6"
   ]
  },
  {
   "cell_type": "code",
   "execution_count": null,
   "id": "e4ca5ceb",
   "metadata": {},
   "outputs": [],
   "source": [
    "class Student:\n",
    "    def __init__(self, rollno, studentName, course, marks={}):\n",
    "        self.rollno = rollno\n",
    "        self.studentName = studentName\n",
    "        self.course = course\n",
    "        self.marks = marks\n",
    "\n",
    "    def __str__(self):\n",
    "        return f\"Roll No: {self.rollno}\\nStudent Name: {self.studentName}\\nCourse: {self.course}\\nMarks: {self.marks}\"\n",
    "\n",
    "    def accept_student_data(self):\n",
    "        self.rollno = input(\"Enter Roll No: \")\n",
    "        self.studentName = input(\"Enter Student Name: \")\n",
    "        self.course = input(\"Enter Course: \")\n",
    "        num_subjects = int(input(\"Enter the number of subjects: \"))\n",
    "        self.marks = {}\n",
    "        for i in range(num_subjects):\n",
    "            subject_name = input(f\"Enter Subject {i + 1} Name: \")\n",
    "            marks = float(input(f\"Enter Marks for {subject_name}: \"))\n",
    "            self.marks[subject_name] = marks\n",
    "\n",
    "    def print_student_data(self):\n",
    "        print(self)\n",
    "\n",
    "    def has_failed(self):\n",
    "        for subject, marks in self.marks.items():\n",
    "            if marks < 40:\n",
    "                return True\n",
    "        return False\n",
    "\n",
    "# Menu-driven program\n",
    "students = []\n",
    "while True:\n",
    "    print(\"\\n1. Accept Student Data\")\n",
    "    print(\"2. Print Student Data for Given ID\")\n",
    "    print(\"3. Print Students Who Have Failed in Any Subject\")\n",
    "    print(\"4. Exit\")\n",
    "    \n",
    "    choice = input(\"Enter your choice: \")\n",
    "    \n",
    "    if choice == '1':\n",
    "        student = Student('', '', '', {})\n",
    "        student.accept_student_data()\n",
    "        students.append(student)\n",
    "    elif choice == '2':\n",
    "        roll_no = input(\"Enter Roll No to view student data: \")\n",
    "        found = False\n",
    "        for student in students:\n",
    "            if student.rollno == roll_no:\n",
    "                student.print_student_data()\n",
    "                found = True\n",
    "                break\n",
    "        if not found:\n",
    "            print(f\"Student with Roll No {roll_no} not found.\")\n",
    "    elif choice == '3':\n",
    "        print(\"Students who have failed in any subject:\")\n",
    "        for student in students:\n",
    "            if student.has_failed():\n",
    "                student.print_student_data()\n",
    "    elif choice == '4':\n",
    "        break\n",
    "    else:\n",
    "        print(\"Invalid choice. Please select a valid option.\")"
   ]
  },
  {
   "cell_type": "markdown",
   "id": "e629aede",
   "metadata": {},
   "source": [
    "Q.7"
   ]
  },
  {
   "cell_type": "code",
   "execution_count": null,
   "id": "ea368ea0",
   "metadata": {},
   "outputs": [],
   "source": [
    "import numpy as np\n",
    "\n",
    "array1 = np.arange(25).reshape(5, 5)\n",
    "reversed_array = array1[:, ::-1]\n",
    "\n",
    "print(\"Original Array:\")\n",
    "print(array1)\n",
    "\n",
    "print(\"\\nArray with Reversed Columns:\")\n",
    "print(reversed_array)"
   ]
  },
  {
   "cell_type": "markdown",
   "id": "f98dd8a1",
   "metadata": {},
   "source": [
    "Q.8"
   ]
  },
  {
   "cell_type": "code",
   "execution_count": null,
   "id": "a6c3f034",
   "metadata": {},
   "outputs": [],
   "source": [
    "import pandas as pd\n",
    "\n",
    "data = {'Store': ['A', 'B', 'A', 'C', 'D', 'A', 'D', 'A', 'C', 'B'],\n",
    "        'Location': ['Mumbai', 'Pune', 'Hyderabad', 'Mumbai', 'Pune', 'Delhi', 'Hyderabad', 'Pune', 'Mumbai', 'Pune'],\n",
    "        'Sales': [40000, 45000, 50000, 90000, 89000, 87000, 85000, 78000, 89000, 70000]}\n",
    "\n",
    "df = pd.DataFrame(data)\n",
    "\n",
    "average_sales_by_store = df.pivot_table(index='Store', values='Sales', aggfunc='mean')\n",
    "print(average_sales_by_store)"
   ]
  },
  {
   "cell_type": "markdown",
   "id": "ec31204f",
   "metadata": {},
   "source": [
    "Q.9"
   ]
  },
  {
   "cell_type": "code",
   "execution_count": null,
   "id": "37090f4a",
   "metadata": {},
   "outputs": [],
   "source": [
    "import numpy as np\n",
    "\n",
    "A1 = np.array([[-81, 75, 40], [27, 67, 52]])\n",
    "A2 = np.array([[15, 54, np.nan], [39, 56, np.nan]])\n",
    "\n",
    "# a. Combine the two arrays vertically\n",
    "combined_vertical = np.vstack((A1, A2))\n",
    "print(\"Combined Vertically:\")\n",
    "print(combined_vertical)\n",
    "\n",
    "# b. Combine the two arrays horizontally\n",
    "combined_horizontal = np.hstack((A1, A2))\n",
    "print(\"\\nCombined Horizontally:\")\n",
    "print(combined_horizontal)\n"
   ]
  },
  {
   "cell_type": "markdown",
   "id": "e22c58e2",
   "metadata": {},
   "source": [
    "Q.10"
   ]
  },
  {
   "cell_type": "code",
   "execution_count": null,
   "id": "b0aa4f20",
   "metadata": {},
   "outputs": [],
   "source": [
    "#a. Divide the array into two sub-arrays containing equal columns:\n",
    "\n",
    "import numpy as np\n",
    "\n",
    "# Create an example array\n",
    "array = np.array([[1, 2, 3, 4, 5], [6, 7, 8, 9, 10]])\n",
    "\n",
    "# Calculate the number of columns and split the array\n",
    "num_cols = array.shape[1]\n",
    "half_cols = num_cols // 2\n",
    "subarray1 = array[:, :half_cols]\n",
    "subarray2 = array[:, half_cols:]\n",
    "\n",
    "print(\"Subarray 1 (Equal columns):\")\n",
    "print(subarray1)\n",
    "\n",
    "print(\"\\nSubarray 2 (Equal columns):\")\n",
    "print(subarray2)\n",
    "\n",
    "\n",
    "#b. Divide the array into two sub-arrays containing equal rows:\n",
    "\n",
    "import numpy as np\n",
    "\n",
    "# Create an example array\n",
    "array = np.array([[1, 2], [3, 4], [5, 6], [7, 8]])\n",
    "\n",
    "# Calculate the number of rows and split the array\n",
    "num_rows = array.shape[0]\n",
    "half_rows = num_rows // 2\n",
    "subarray1 = array[:half_rows, :]\n",
    "subarray2 = array[half_rows:, :]\n",
    "\n",
    "print(\"Subarray 1 (Equal rows):\")\n",
    "print(subarray1)\n",
    "\n",
    "print(\"\\nSubarray 2 (Equal rows):\")\n",
    "print(subarray2)"
   ]
  },
  {
   "cell_type": "markdown",
   "id": "33a4f5d4",
   "metadata": {},
   "source": [
    "Q.11"
   ]
  },
  {
   "cell_type": "code",
   "execution_count": null,
   "id": "60881eee",
   "metadata": {},
   "outputs": [],
   "source": [
    "import pandas as pd\n",
    "\n",
    "# Create the DataFrame from the given data\n",
    "data = {'Store': ['A', 'B', 'A', 'C', 'D', 'A', 'D', 'A', 'C', 'B'],\n",
    "        'Location': ['Mumbai', 'Pune', 'Hyderabad', 'Mumbai', 'Pune', 'Delhi', 'Hyderabad', 'Pune', 'Mumbai', 'Pune'],\n",
    "        'Sales': [40000, 45000, 50000, 90000, 89000, 87000, 85000, 78000, 89000, 70000]}\n",
    "\n",
    "df = pd.DataFrame(data)\n",
    "\n",
    "# a. Count total sales per store\n",
    "total_sales_per_store = df.groupby('Store')['Sales'].sum()\n",
    "print(\"a. Total Sales per Store:\")\n",
    "print(total_sales_per_store)\n",
    "\n",
    "# b. Sort by 'Store' in ascending order and by 'Sales' in descending order\n",
    "sorted_df = df.sort_values(by=['Store', 'Sales'], ascending=[True, False])\n",
    "print(\"\\nb. Sorted by 'Store' in ascending order and by 'Sales' in descending order:\")\n",
    "print(sorted_df)\n",
    "\n",
    "# c. Rank the dataframe in descending order of sales by each store\n",
    "df['Rank'] = df.groupby('Store')['Sales'].rank(ascending=False, method='first')\n",
    "ranked_df = df.sort_values(by=['Store', 'Rank'])\n",
    "print(\"\\nc. Ranked in descending order of sales by each store:\")\n",
    "print(ranked_df)\n",
    "\n",
    "# d. Save the dataframe to a file and read it back\n",
    "ranked_df.to_csv('ranked_sales.csv', index=False)\n",
    "read_ranked_df = pd.read_csv('ranked_sales.csv')\n",
    "print(\"\\nd. Read from file:\")\n",
    "print(read_ranked_df)"
   ]
  },
  {
   "cell_type": "markdown",
   "id": "f3a9a57a",
   "metadata": {},
   "source": [
    "Q.12"
   ]
  },
  {
   "cell_type": "code",
   "execution_count": null,
   "id": "99f9b176",
   "metadata": {},
   "outputs": [],
   "source": [
    "import pandas as pd\n",
    "import seaborn as sns\n",
    "import matplotlib.pyplot as plt\n",
    "\n",
    "# Import the dataset\n",
    "df = pd.read_csv('C:/Users/DBDA47/Desktop/Shriraj Gaikwad PYTHON/age_height.csv')\n",
    "\n",
    "# Calculate the correlation matrix\n",
    "correlation_matrix = df.corr()\n",
    "\n",
    "# Create a heatmap\n",
    "plt.figure(figsize=(8, 6))\n",
    "sns.heatmap(correlation_matrix, annot=True, cmap='coolwarm', linewidths=0.5)\n",
    "plt.title('Correlation Heatmap')\n",
    "plt.show()"
   ]
  },
  {
   "cell_type": "markdown",
   "id": "ae56cc56",
   "metadata": {},
   "source": [
    "Q.13"
   ]
  },
  {
   "cell_type": "code",
   "execution_count": 2,
   "id": "f4803266",
   "metadata": {},
   "outputs": [
    {
     "data": {
      "image/png": "[encoded data removed]",
      "text/plain": [
       "<Figure size 800x600 with 1 Axes>"
      ]
     },
     "metadata": {},
     "output_type": "display_data"
    }
   ],
   "source": [
    "import pandas as pd\n",
    "import seaborn as sns\n",
    "import matplotlib.pyplot as plt\n",
    "\n",
    "# Import the dataset\n",
    "df = pd.read_csv('C:/Users/DBDA47/Desktop/Shriraj Gaikwad PYTHON/iris.csv')\n",
    "\n",
    "# Create a swarm plot\n",
    "plt.figure(figsize=(8, 6))\n",
    "sns.swarmplot(x='species', y='sepal_length', data=df)\n",
    "plt.title('Swarm Plot of Sepal Length for iris Species')\n",
    "plt.show()\n"
   ]
  },
  {
   "cell_type": "markdown",
   "id": "2c53e7aa",
   "metadata": {},
   "source": [
    "Q.14"
   ]
  },
  {
   "cell_type": "code",
   "execution_count": 3,
   "id": "6915621a",
   "metadata": {},
   "outputs": [
    {
     "ename": "ValueError",
     "evalue": "'C:/Users/DBDA47/Desktop/Shriraj Gaikwad PYTHON/diamonds.csv' is not one of the example datasets.",
     "output_type": "error",
     "traceback": [
      "\u001b[1;31m---------------------------------------------------------------------------\u001b[0m",
      "\u001b[1;31mValueError\u001b[0m                                Traceback (most recent call last)",
      "Cell \u001b[1;32mIn[3], line 5\u001b[0m\n\u001b[0;32m      2\u001b[0m \u001b[38;5;28;01mimport\u001b[39;00m \u001b[38;5;21;01mmatplotlib\u001b[39;00m\u001b[38;5;21;01m.\u001b[39;00m\u001b[38;5;21;01mpyplot\u001b[39;00m \u001b[38;5;28;01mas\u001b[39;00m \u001b[38;5;21;01mplt\u001b[39;00m\n\u001b[0;32m      4\u001b[0m \u001b[38;5;66;03m# Load the 'diamonds' dataset\u001b[39;00m\n\u001b[1;32m----> 5\u001b[0m diamonds \u001b[38;5;241m=\u001b[39m sns\u001b[38;5;241m.\u001b[39mload_dataset(\u001b[38;5;124m'\u001b[39m\u001b[38;5;124mC:/Users/DBDA47/Desktop/Shriraj Gaikwad PYTHON/diamonds.csv\u001b[39m\u001b[38;5;124m'\u001b[39m)\n\u001b[0;32m      7\u001b[0m \u001b[38;5;66;03m# Set up a grid of plots\u001b[39;00m\n\u001b[0;32m      8\u001b[0m fig, axes \u001b[38;5;241m=\u001b[39m plt\u001b[38;5;241m.\u001b[39msubplots(\u001b[38;5;241m3\u001b[39m, \u001b[38;5;241m2\u001b[39m, figsize\u001b[38;5;241m=\u001b[39m(\u001b[38;5;241m14\u001b[39m, \u001b[38;5;241m12\u001b[39m))\n",
      "File \u001b[1;32m~\\AppData\\Local\\anaconda3\\Lib\\site-packages\\seaborn\\utils.py:587\u001b[0m, in \u001b[0;36mload_dataset\u001b[1;34m(name, cache, data_home, **kws)\u001b[0m\n\u001b[0;32m    585\u001b[0m \u001b[38;5;28;01mif\u001b[39;00m \u001b[38;5;129;01mnot\u001b[39;00m os\u001b[38;5;241m.\u001b[39mpath\u001b[38;5;241m.\u001b[39mexists(cache_path):\n\u001b[0;32m    586\u001b[0m     \u001b[38;5;28;01mif\u001b[39;00m name \u001b[38;5;129;01mnot\u001b[39;00m \u001b[38;5;129;01min\u001b[39;00m get_dataset_names():\n\u001b[1;32m--> 587\u001b[0m         \u001b[38;5;28;01mraise\u001b[39;00m \u001b[38;5;167;01mValueError\u001b[39;00m(\u001b[38;5;124mf\u001b[39m\u001b[38;5;124m\"\u001b[39m\u001b[38;5;124m'\u001b[39m\u001b[38;5;132;01m{\u001b[39;00mname\u001b[38;5;132;01m}\u001b[39;00m\u001b[38;5;124m'\u001b[39m\u001b[38;5;124m is not one of the example datasets.\u001b[39m\u001b[38;5;124m\"\u001b[39m)\n\u001b[0;32m    588\u001b[0m     urlretrieve(url, cache_path)\n\u001b[0;32m    589\u001b[0m full_path \u001b[38;5;241m=\u001b[39m cache_path\n",
      "\u001b[1;31mValueError\u001b[0m: 'C:/Users/DBDA47/Desktop/Shriraj Gaikwad PYTHON/diamonds.csv' is not one of the example datasets."
     ]
    }
   ],
   "source": [
    "import seaborn as sns\n",
    "import matplotlib.pyplot as plt\n",
    "\n",
    "# Load the 'diamonds' dataset\n",
    "diamonds = sns.load_dataset('C:/Users/DBDA47/Desktop/Shriraj Gaikwad PYTHON/diamonds.csv')\n",
    "\n",
    "# Set up a grid of plots\n",
    "fig, axes = plt.subplots(3, 2, figsize=(14, 12))\n",
    "fig.suptitle('Price Distribution by Cut Type')\n",
    "\n",
    "# 1. Multiple boxplot\n",
    "sns.boxplot(x='cut', y='price', data=diamonds, ax=axes[0, 0])\n",
    "axes[0, 0].set_title('Multiple Boxplot')\n",
    "\n",
    "# 2. Violin Plot\n",
    "sns.violinplot(x='cut', y='price', data=diamonds, ax=axes[0, 1])\n",
    "axes[0, 1].set_title('Violin Plot')\n",
    "\n",
    "# 3. Boxen Plot\n",
    "sns.boxenplot(x='cut', y='price', data=diamonds, ax=axes[1, 0])\n",
    "axes[1, 0].set_title('Boxen Plot')\n",
    "\n",
    "# 4. Histogram plot\n",
    "sns.histplot(data=diamonds, x='price', hue='cut', ax=axes[1, 1], element='step')\n",
    "axes[1, 1].set_title('Histogram Plot')\n",
    "\n",
    "# 5. Distribution plot\n",
    "sns.kdeplot(data=diamonds, x='price', hue='cut', common_norm=False, ax=axes[2, 0])\n",
    "axes[2, 0].set_title('Distribution Plot')\n",
    "\n",
    "# 6. Heatmap plot\n",
    "pivot_table = diamonds.pivot_table(index='cut', columns='price', values='price', aggfunc='count', fill_value=0)\n",
    "sns.heatmap(pivot_table, cmap='YlGnBu', ax=axes[2, 1], cbar=False)\n",
    "axes[2, 1].set_title('Heatmap Plot')\n",
    "\n",
    "plt.tight_layout()\n",
    "plt.subplots_adjust(top=0.9)\n",
    "plt.show()"
   ]
  },
  {
   "cell_type": "code",
   "execution_count": null,
   "id": "4d80cda9",
   "metadata": {},
   "outputs": [],
   "source": []
  }
 ],
 "metadata": {
  "kernelspec": {
   "display_name": "Python 3 (ipykernel)",
   "language": "python",
   "name": "python3"
  },
  "language_info": {
   "codemirror_mode": {
    "name": "ipython",
    "version": 3
   },
   "file_extension": ".py",
   "mimetype": "text/x-python",
   "name": "python",
   "nbconvert_exporter": "python",
   "pygments_lexer": "ipython3",
   "version": "3.11.5"
  }
 },
 "nbformat": 4,
 "nbformat_minor": 5
}
